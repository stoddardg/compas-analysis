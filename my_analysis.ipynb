{
 "cells": [
  {
   "cell_type": "code",
   "execution_count": 81,
   "metadata": {
    "collapsed": true
   },
   "outputs": [],
   "source": [
    "import pandas\n",
    "import numpy as np \n",
    "from sqlalchemy import create_engine\n",
    "\n",
    "%matplotlib inline\n",
    "import matplotlib.pyplot as plt\n",
    "import seaborn\n",
    "\n",
    "import scipy.stats"
   ]
  },
  {
   "cell_type": "code",
   "execution_count": 8,
   "metadata": {
    "collapsed": true
   },
   "outputs": [],
   "source": [
    "compas_raw = pandas.read_csv(\"compas-scores-two-years.csv\")\n",
    "\n",
    "compas_2yr = pandas.read_csv(\"compas-scores-two-years.csv\")"
   ]
  },
  {
   "cell_type": "code",
   "execution_count": 32,
   "metadata": {
    "collapsed": false
   },
   "outputs": [
    {
     "data": {
      "text/plain": [
       "African-American    3696\n",
       "Caucasian           2454\n",
       "Hispanic             637\n",
       "Other                377\n",
       "Asian                 32\n",
       "Native American       18\n",
       "Name: race, dtype: int64"
      ]
     },
     "execution_count": 32,
     "metadata": {},
     "output_type": "execute_result"
    }
   ],
   "source": [
    "compas_2yr.race.value_counts()"
   ]
  },
  {
   "cell_type": "code",
   "execution_count": 73,
   "metadata": {
    "collapsed": false
   },
   "outputs": [
    {
     "data": {
      "text/plain": [
       "0    0\n",
       "1    1\n",
       "2    0\n",
       "3    0\n",
       "4    0\n",
       "Name: event, dtype: int64"
      ]
     },
     "execution_count": 73,
     "metadata": {},
     "output_type": "execute_result"
    }
   ],
   "source": [
    "compas_2yr.event.head()"
   ]
  },
  {
   "cell_type": "code",
   "execution_count": 10,
   "metadata": {
    "collapsed": false
   },
   "outputs": [
    {
     "name": "stdout",
     "output_type": "stream",
     "text": [
      "<class 'pandas.core.frame.DataFrame'>\n",
      "RangeIndex: 7214 entries, 0 to 7213\n",
      "Data columns (total 53 columns):\n",
      "id                         7214 non-null int64\n",
      "name                       7214 non-null object\n",
      "first                      7214 non-null object\n",
      "last                       7214 non-null object\n",
      "compas_screening_date      7214 non-null object\n",
      "sex                        7214 non-null object\n",
      "dob                        7214 non-null object\n",
      "age                        7214 non-null int64\n",
      "age_cat                    7214 non-null object\n",
      "race                       7214 non-null object\n",
      "juv_fel_count              7214 non-null int64\n",
      "decile_score               7214 non-null int64\n",
      "juv_misd_count             7214 non-null int64\n",
      "juv_other_count            7214 non-null int64\n",
      "priors_count               7214 non-null int64\n",
      "days_b_screening_arrest    6907 non-null float64\n",
      "c_jail_in                  6907 non-null object\n",
      "c_jail_out                 6907 non-null object\n",
      "c_case_number              7192 non-null object\n",
      "c_offense_date             6055 non-null object\n",
      "c_arrest_date              1137 non-null object\n",
      "c_days_from_compas         7192 non-null float64\n",
      "c_charge_degree            7214 non-null object\n",
      "c_charge_desc              7185 non-null object\n",
      "is_recid                   7214 non-null int64\n",
      "r_case_number              3471 non-null object\n",
      "r_charge_degree            3471 non-null object\n",
      "r_days_from_arrest         2316 non-null float64\n",
      "r_offense_date             3471 non-null object\n",
      "r_charge_desc              3413 non-null object\n",
      "r_jail_in                  2316 non-null object\n",
      "r_jail_out                 2316 non-null object\n",
      "violent_recid              0 non-null float64\n",
      "is_violent_recid           7214 non-null int64\n",
      "vr_case_number             819 non-null object\n",
      "vr_charge_degree           819 non-null object\n",
      "vr_offense_date            819 non-null object\n",
      "vr_charge_desc             819 non-null object\n",
      "type_of_assessment         7214 non-null object\n",
      "decile_score.1             7214 non-null int64\n",
      "score_text                 7214 non-null object\n",
      "screening_date             7214 non-null object\n",
      "v_type_of_assessment       7214 non-null object\n",
      "v_decile_score             7214 non-null int64\n",
      "v_score_text               7214 non-null object\n",
      "v_screening_date           7214 non-null object\n",
      "in_custody                 6978 non-null object\n",
      "out_custody                6978 non-null object\n",
      "priors_count.1             7214 non-null int64\n",
      "start                      7214 non-null int64\n",
      "end                        7214 non-null int64\n",
      "event                      7214 non-null int64\n",
      "two_year_recid             7214 non-null int64\n",
      "dtypes: float64(4), int64(16), object(33)\n",
      "memory usage: 2.9+ MB\n"
     ]
    }
   ],
   "source": [
    "compas_2yr.info()"
   ]
  },
  {
   "cell_type": "code",
   "execution_count": 20,
   "metadata": {
    "collapsed": true
   },
   "outputs": [],
   "source": [
    "from sklearn.metrics import roc_curve\n",
    "from sklearn.metrics import roc_auc_score"
   ]
  },
  {
   "cell_type": "code",
   "execution_count": 33,
   "metadata": {
    "collapsed": false
   },
   "outputs": [],
   "source": [
    "white_data = compas_2yr[compas_2yr.race=='Caucasian']\n",
    "black_data = compas_2yr[compas_2yr.race=='African-American']\n",
    "\n",
    "all_roc = roc_curve(compas_2yr.two_year_recid, compas_2yr.decile_score)\n",
    "white_roc = roc_curve(white_data.two_year_recid, white_data.decile_score)\n",
    "black_roc = roc_curve(black_data.two_year_recid, black_data.decile_score)"
   ]
  },
  {
   "cell_type": "code",
   "execution_count": 78,
   "metadata": {
    "collapsed": false
   },
   "outputs": [
    {
     "data": {
      "text/plain": [
       "<matplotlib.legend.Legend at 0x118b49790>"
      ]
     },
     "execution_count": 78,
     "metadata": {},
     "output_type": "execute_result"
    },
    {
     "data": {
      "image/png": "[encoded data removed]",
      "text/plain": [
       "<matplotlib.figure.Figure at 0x116b15390>"
      ]
     },
     "metadata": {},
     "output_type": "display_data"
    }
   ],
   "source": [
    "# plt.plot(all_roc[0], all_roc[1], label='all')\n",
    "plt.plot(white_roc[0], white_roc[1], label='white', color='blue')\n",
    "plt.plot(black_roc[0], black_roc[1], label='black', color='red')\n",
    "\n",
    "# plt.plot(.2345, 1-.4772,)\n",
    "\n",
    "\n",
    "plt.plot(.2345,1-.4772, marker='o', markersize=15, label=\"compas_white\", alpha=.4)\n",
    "\n",
    "plt.plot(.4487,1-.2799, marker='*', markersize=15, label=\"compas_black\")\n",
    "\n",
    "\n",
    "# plt.plot([0,1], [1-.4772, 1-.4772], ls='--', color='blue', alpha=.4)\n",
    "# plt.plot([.2345,.2345], [0,1], ls='--', color='blue',alpha=.4)\n",
    "# plt.plot([0,1], [1-.2799, 1-.2799], ls='--', color='red',alpha=.4)\n",
    "# plt.plot([.4485,.4485], [0,1], ls='--', color='red',alpha=.4)\n",
    "\n",
    "for (fpr, thresh) in zip(white_roc[0], white_roc[2]):\n",
    "    plt.plot([fpr,fpr],[0,1],label=str(thresh),ls='--',alpha=.3 )\n",
    "    plt.text(fpr,1,str(thresh))\n",
    "\n",
    "# for (fpr, thresh) in zip(black_roc[0], black_roc[2]):\n",
    "#     plt.plot([fpr,fpr],[0,1],label=str(thresh),ls=':',alpha=.3 )\n",
    "#     plt.text(fpr,0,str(thresh))\n",
    "\n",
    "plt.xlabel(\"False positive rate\")\n",
    "plt.ylabel(\"True Positive rate\")\n",
    "plt.legend()\n"
   ]
  },
  {
   "cell_type": "markdown",
   "metadata": {},
   "source": [
    "# Observations\n",
    "\n",
    "- The above chart shows that a rating of 5 for a white person, in terms of probability of commiting a future crime, is equivalent to a rating of 7 for a black person. So ratings are unfairly harsh for african-americans (at least within this dataset). "
   ]
  },
  {
   "cell_type": "markdown",
   "metadata": {},
   "source": [
    "# Running questions\n",
    "\n",
    "- Why did the article choose to put high & medium in the same class? \n",
    "\n",
    "- Can we build a classifier that would \"relabel\" the scores for people if they were black or white, i.e. take the arrest record for a white person, change their race to african-american and classify the resulting score. Do the same thing for african-americans (change their race to white). Is this the right thing to do? How much less accurate do these classifiers become when we feed them the wrong race data? \n",
    "\n",
    "- Is race data actually used in the construction of the compas score? How is it used? \n",
    "\n",
    "\n"
   ]
  },
  {
   "cell_type": "markdown",
   "metadata": {},
   "source": [
    "# The effect of recidivism rate\n",
    "\n",
    "\n",
    "One nagging issue with the interpretation of the ProPublica analysis is that it doesn't fully address the fact that the recidivism rates are very different. African-Americans in the dataset recidivate at a rate of 51% while whites recidivate at the rate of 39.6%. Should this difference in base rate necessarily affect the false positive and false negative rate? "
   ]
  },
  {
   "cell_type": "code",
   "execution_count": 70,
   "metadata": {
    "collapsed": false
   },
   "outputs": [
    {
     "data": {
      "text/plain": [
       "race\n",
       "African-American    0.514340\n",
       "Asian               0.281250\n",
       "Caucasian           0.393643\n",
       "Hispanic            0.364207\n",
       "Native American     0.555556\n",
       "Other               0.352785\n",
       "Name: two_year_recid, dtype: float64"
      ]
     },
     "execution_count": 70,
     "metadata": {},
     "output_type": "execute_result"
    }
   ],
   "source": [
    "compas_2yr.groupby('race')['two_year_recid'].mean()"
   ]
  },
  {
   "cell_type": "code",
   "execution_count": 87,
   "metadata": {
    "collapsed": false
   },
   "outputs": [
    {
     "data": {
      "text/plain": [
       "[<matplotlib.lines.Line2D at 0x116193b90>]"
      ]
     },
     "execution_count": 87,
     "metadata": {},
     "output_type": "execute_result"
    },
    {
     "data": {
      "image/png": "[encoded data removed]",
      "text/plain": [
       "<matplotlib.figure.Figure at 0x1162c9910>"
      ]
     },
     "metadata": {},
     "output_type": "display_data"
    }
   ],
   "source": [
    "n_points = 100000\n",
    "y_true = scipy.stats.bernoulli.rvs(.3, size=n_points)\n",
    "score = y_true + scipy.stats.norm.rvs(0, 1, size=n_points)\n",
    "\n",
    "\n",
    "np.random.randint(10, size=n_points)\n",
    "\n",
    "y_true_2 = scipy.stats.bernoulli.rvs(.7, size=n_points)\n",
    "score_2 = y_true_2 + scipy.stats.norm.rvs(0, 1, size=n_points)\n",
    "\n",
    "\n",
    "\n",
    "roc = roc_curve(y_true, score)\n",
    "roc_2 = roc_curve(y_true_2, score_2)\n",
    "plt.plot(roc[0], roc[1])\n",
    "\n",
    "plt.plot(roc_2[0], roc_2[1])"
   ]
  },
  {
   "cell_type": "code",
   "execution_count": null,
   "metadata": {
    "collapsed": true
   },
   "outputs": [],
   "source": []
  }
 ],
 "metadata": {
  "kernelspec": {
   "display_name": "Python 2",
   "language": "python",
   "name": "python2"
  },
  "language_info": {
   "codemirror_mode": {
    "name": "ipython",
    "version": 2
   },
   "file_extension": ".py",
   "mimetype": "text/x-python",
   "name": "python",
   "nbconvert_exporter": "python",
   "pygments_lexer": "ipython2",
   "version": "2.7.11"
  }
 },
 "nbformat": 4,
 "nbformat_minor": 0
}
